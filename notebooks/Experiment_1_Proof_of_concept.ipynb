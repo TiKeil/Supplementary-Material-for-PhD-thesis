{
 "cells": [
  {
   "cell_type": "markdown",
   "metadata": {},
   "source": [
    "# Proof-of-concept TR-RB simulation\n",
    "\n",
    "Tim Keil"
   ]
  },
  {
   "cell_type": "code",
   "execution_count": 1,
   "metadata": {},
   "outputs": [],
   "source": [
    "# ~~~\n",
    "# This file is part of PhD-thesis:\n",
    "#\n",
    "#           \"Adaptive Reduced Basis Methods for Multiscale Problems\n",
    "#               and Large-scale PDE-constrained Optimization\"\n",
    "#\n",
    "# by: Tim Keil\n",
    "#\n",
    "#   https://github.com/TiKeil/Supplementary-Material-for-PhD-thesis\n",
    "#\n",
    "# Copyright 2019-2022 all developers. All rights reserved.\n",
    "# License: Licensed as BSD 2-Clause License (http://opensource.org/licenses/BSD-2-Clause)"
   ]
  },
  {
   "cell_type": "markdown",
   "metadata": {},
   "source": [
    "# Preparations"
   ]
  },
  {
   "cell_type": "markdown",
   "metadata": {},
   "source": [
    "## details"
   ]
  },
  {
   "cell_type": "markdown",
   "metadata": {},
   "source": [
    "In this notebook we discretize the following problem: \n",
    "Find $u_{\\mu}$ solving the following parametrized constrained equation\n",
    "\n",
    "\\begin{align*}\n",
    "\t-  \\nabla \\cdot \\left( \\kappa_{\\mu}  \\nabla u_{\\mu} \\right) &= f_{\\mu} &&\\text{in } \\Omega, \\\\\n",
    "\tq ( \\kappa_{\\mu}  \\nabla u_{\\mu} \\cdot n) &= (u_{\\text{out}} - u_{\\mu}) &&\\text{on } \\partial \\Omega.\n",
    "\\end{align*}"
   ]
  },
  {
   "cell_type": "markdown",
   "metadata": {},
   "source": [
    "For the definition of $\\kappa_{\\mu}$ and $f_{\\mu}$ in the computational domain $\\Omega$, we use the `BitmapFunction` from PyMOR. This function uses the Python Imaging Library (PIL) in order to convert a .png grayscale picture to a data function on our domain.\n",
    "Walls, windows and doors are stored in seperated .png to enable a affine decomposition of each part of the picture. Furthermore, we are considering a heater at each window. The numbering of the components for $\\kappa_{\\mu}$ can be seen in the following picture\n",
    "![EXC_notebook_data/EXC_MM_with_numbers.png](EXC_notebook_data/Domain_of_interestin_Omega.png)\n",
    "\n",
    "Here, numbers with | are walls, numbers with _ are doors and numbers with dots are windows\n",
    "\n",
    "The heaters are numbered in the following way:\n",
    "![EXC_notebook_data/EXC_MM_with_numbers_heat.png](EXC_notebook_data/EXC_MM_with_numbers_heat.png)"
   ]
  },
  {
   "cell_type": "markdown",
   "metadata": {},
   "source": [
    "For our pde constrained model, we need to define a cost functional. In a general quadratic model, we have \n",
    "\n",
    "\\begin{align}\n",
    "\\mathcal{J}(u, \\mu) := \\Theta(\\mu) + j_\\mu(u) + k_\\mu(u, u),\n",
    "\\end{align}\n",
    "\n",
    "For this code, we restrict ourselves to the following definition\n",
    "\\begin{align}\n",
    "\\mathcal{J}(v, \\mu) = \\frac{\\sigma_d}{2} \\int_{D}^{} (v - u^{\\text{d}})^2 + \\frac{1}{2} \\sum^{M}_{i=1} \\sigma_i \\mu_i^2,\n",
    "\\end{align}\n",
    "which means\n",
    "\n",
    "\\begin{align}\n",
    "\\Theta(\\mu) &= \\frac{1}{2} \\sum^{M}_{i=1} \\sigma_i \\mu_i^2 + \\frac{\\sigma_d}{2} \\int_{D}^{} u^{\\text{d}} u^{\\text{d}}\\\\\n",
    "j_{\\mu}(u) & = -\\sigma_d \\int_{D}^{} u^{\\text{d}}u \\\\\n",
    "k_{\\mu}(u,u) &= \\frac{\\sigma_d}{2} \\int_{D}^{} u^2 \n",
    "\\end{align}\n",
    "\n",
    "The following code implements this particular case."
   ]
  },
  {
   "cell_type": "markdown",
   "metadata": {},
   "source": [
    "## prepare cells"
   ]
  },
  {
   "cell_type": "code",
   "execution_count": 2,
   "metadata": {},
   "outputs": [],
   "source": [
    "import numpy as np\n",
    "\n",
    "from matplotlib import pyplot as plt\n",
    "\n",
    "from pymor.basic import *"
   ]
  },
  {
   "cell_type": "code",
   "execution_count": 3,
   "metadata": {},
   "outputs": [],
   "source": [
    "from pymor.core.logger import set_log_levels, getLogger\n",
    "set_log_levels({'pymor': 'ERROR',\n",
    "                'distributed_adaptive_discretizations': 'DEBUG',\n",
    "                'notebook': 'INFO'})\n",
    "logger = getLogger('notebook.notebook')\n",
    "import matplotlib as mpl\n",
    "mpl.rcParams['figure.figsize'] = (12.0, 8.0)\n",
    "mpl.rcParams['font.size'] = 12\n",
    "mpl.rcParams['savefig.dpi'] = 300\n",
    "\n",
    "data_path = '../EXC_data'\n",
    "# domain of interest\n",
    "bounding_box = [[0,0],[2,1]]\n",
    "domain_of_interest = BitmapFunction('{}/Domain_of_interest.png'.format(data_path), range=[1,0], bounding_box=bounding_box)"
   ]
  },
  {
   "cell_type": "markdown",
   "metadata": {},
   "source": [
    "## problem definition and tolerances"
   ]
  },
  {
   "cell_type": "code",
   "execution_count": 4,
   "metadata": {
    "scrolled": false
   },
   "outputs": [
    {
     "name": "stdout",
     "output_type": "stream",
     "text": [
      "I am using the NCD corrected functional!!\n",
      "my product is fixed_energy\n",
      "mu_bar is: {walls: [0.022360679774997897, 0.022360679774997897]}\n"
     ]
    }
   ],
   "source": [
    "from pdeopt.problems import EXC_problem, set_input_dict\n",
    "from pdeopt.discretizer import discretize_quadratic_pdeopt_stationary_cg_EXC\n",
    "\n",
    "parametric_quantities = {'walls': [1,4], 'windows': [], 'doors': [], 'heaters': []}\n",
    "inactive_quantities = {'removed_walls': [], 'open_windows': [], 'open_doors': [1,2,3,4,5,6,7,10],\n",
    "                       'active_heaters': [9]}\n",
    "summed_quantities = {'walls': [[1,2,3,8],[4,5,6]], 'windows': [], 'doors': [], 'heaters': [[9,1,5]]}\n",
    "\n",
    "coefficient_expressions = None\n",
    "parameters_in_q = True\n",
    "\n",
    "input_dict = set_input_dict(parametric_quantities, inactive_quantities, coefficient_expressions, summed_quantities, parameters_in_q,\n",
    "                            ac=0.5, owc=[0.0005], iwc= [0.005,0.1], idc=[0.005], wc=[0.0005], ht=[0,100],\n",
    "                                    owc_c=0.025,  iwc_c= 0.001,     idc_c=0.01,  wc_c=0.025,  ht_c=80)\n",
    "\n",
    "\n",
    "parameter_scaling = False\n",
    "u_out = 5\n",
    "\n",
    "problem, parameter_scales = EXC_problem(input_dict, summed_quantities, outside_temperature=u_out, #, q_inverse=0.0001\n",
    "                                        data_path = data_path,parameters_in_q=parameters_in_q, \n",
    "                                        parameter_scaling=parameter_scaling,\n",
    "                                        coefficient_expressions=coefficient_expressions)\n",
    "\n",
    "u_d = 18 \n",
    "\n",
    "mu_d = problem.parameter_space.sample_randomly(1, seed=10)[0]\n",
    "mu_d = None\n",
    "\n",
    "sigma_d = 1\n",
    "weights = {'walls': 10, 'doors': 1, 'heaters': 1, 'windows': 1, 'state': 1.}\n",
    "\n",
    "diameter = np.sqrt(2)/200.\n",
    "opt_fom, data, mu_bar = discretize_quadratic_pdeopt_stationary_cg_EXC(problem, diameter, weights, parameter_scales, \n",
    "                                                          domain_of_interest, desired_temperature=u_d, \n",
    "                                                          mu_for_u_d=mu_d, mu_for_tikhonov=mu_d,\n",
    "                                                          parameters_in_q=parameters_in_q, product='fixed_energy')"
   ]
  },
  {
   "cell_type": "code",
   "execution_count": 5,
   "metadata": {},
   "outputs": [
    {
     "name": "stdout",
     "output_type": "stream",
     "text": [
      "information on the grid:\n",
      "Rect-Grid on domain [0,2] x [0,1]\n",
      "x0-intervals: 400, x1-intervals: 200\n",
      "faces: 80000, edges: 160600, vertices: 80601\n"
     ]
    }
   ],
   "source": [
    "print('information on the grid:')\n",
    "print(data['grid'])\n",
    "\n",
    "radius = 0.1               # TR radius \n",
    "FOC_tolerance = 1e-6       # tau_FOC\n",
    "sub_tolerance = 1e-8       # tau_sub\n",
    "safety_tol = 1e-16         # Safeguard, to avoid running the optimizer for really small difference in digits\n",
    "max_it = 40                # Maximum number of iteration for the TR algorithm\n",
    "max_it_sub = 400           # Maximum number of iteration for the TR optimization subproblem\n",
    "max_it_arm = 50            # Maximum number of iteration for the Armijo rule\n",
    "init_step_armijo = 0.5     # Initial step for the Armijo rule\n",
    "armijo_alpha = 1e-5       # kappa_arm\n",
    "beta = 0.95                # beta_2\n",
    "epsilon_i = 1e-8           # Treshold for the epsilon active set (Kelley '99)\n",
    "\n",
    "# additional parameters for Newton\n",
    "iterative_solver = 'BICGStab'\n",
    "estimate_tolerance = 1e-4\n",
    "Qian_Grepl_subproblem = True\n",
    "control_mu = False\n",
    "reductor_type = 'simple_coercive'"
   ]
  },
  {
   "cell_type": "code",
   "execution_count": 6,
   "metadata": {},
   "outputs": [
    {
     "name": "stdout",
     "output_type": "stream",
     "text": [
      "{walls: [0.07334164969317605, 0.06268601168408901]}\n"
     ]
    }
   ],
   "source": [
    "# starting with \n",
    "parameter_space = problem.parameter_space\n",
    "mu = parameter_space.sample_randomly(1, seed=94)[0]\n",
    "print(mu)"
   ]
  },
  {
   "cell_type": "markdown",
   "metadata": {},
   "source": [
    "### What methods do you want to test ?"
   ]
  },
  {
   "cell_type": "code",
   "execution_count": 7,
   "metadata": {},
   "outputs": [],
   "source": [
    "optimization_methods = [\n",
    "        'BFGS',\n",
    "        'TR-RB-BFGS',\n",
    "        'Greedy'\n",
    "]"
   ]
  },
  {
   "cell_type": "markdown",
   "metadata": {},
   "source": [
    "## Visualizations"
   ]
  },
  {
   "cell_type": "markdown",
   "metadata": {},
   "source": [
    "Visualize diffusion and rhs"
   ]
  },
  {
   "cell_type": "code",
   "execution_count": 8,
   "metadata": {},
   "outputs": [
    {
     "data": {
      "application/vnd.jupyter.widget-view+json": {
       "model_id": "9e5c59cc39964a0faaae3107e673a21e",
       "version_major": 2,
       "version_minor": 0
      },
      "text/plain": [
       "Output()"
      ]
     },
     "metadata": {},
     "output_type": "display_data"
    }
   ],
   "source": [
    "from pymor.discretizers.builtin.cg import InterpolationOperator\n",
    "\n",
    "vis_mu = mu.copy()\n",
    "diff = InterpolationOperator(data['grid'], problem.diffusion).as_vector(vis_mu)\n",
    "rhs = InterpolationOperator(data['grid'], problem.rhs).as_vector(vis_mu)\n",
    "doI = InterpolationOperator(data['grid'], domain_of_interest).as_vector(vis_mu)\n",
    "opt_fom.visualize(diff)\n",
    "#plt.savefig('pics/exc_2_diff.pdf', format='pdf', bbox_inches=\"tight\")\n",
    "opt_fom.visualize(rhs)\n",
    "#plt.savefig('pics/exc_2_rhs.pdf', format='pdf', bbox_inches=\"tight\")\n",
    "opt_fom.visualize(doI)"
   ]
  },
  {
   "cell_type": "markdown",
   "metadata": {},
   "source": [
    "We can easily solve the primal and dual equations by calling "
   ]
  },
  {
   "cell_type": "code",
   "execution_count": 9,
   "metadata": {},
   "outputs": [
    {
     "data": {
      "application/vnd.jupyter.widget-view+json": {
       "model_id": "9fa406e5c3b1454eaf4fa995b3585f61",
       "version_major": 2,
       "version_minor": 0
      },
      "text/plain": [
       "Output()"
      ]
     },
     "metadata": {},
     "output_type": "display_data"
    }
   ],
   "source": [
    "u = opt_fom.solve(mu)\n",
    "p = opt_fom.solve_dual(mu)\n",
    "\n",
    "opt_fom.visualize(u)\n",
    "#plt.savefig('pics/exc_2_sol.pdf', format='pdf', bbox_inches=\"tight\")\n",
    "opt_fom.visualize(p)\n",
    "#plt.savefig('pics/exc_2_dual.pdf', format='pdf', bbox_inches=\"tight\")"
   ]
  },
  {
   "cell_type": "markdown",
   "metadata": {},
   "source": [
    "# Full Order Optimization"
   ]
  },
  {
   "cell_type": "code",
   "execution_count": 10,
   "metadata": {},
   "outputs": [
    {
     "name": "stdout",
     "output_type": "stream",
     "text": [
      "Optimal parameter:  [0.0208816  0.03446296]\n",
      "Optimal J:  3.5461321691007193\n",
      "\n",
      "Starting parameter:  [0.07334165 0.06268601]\n",
      "Starting J:  3.574651526009707\n"
     ]
    }
   ],
   "source": [
    "parameters = opt_fom.parameters\n",
    "if mu_d is not None:\n",
    "    mu_opt = mu_d\n",
    "else:\n",
    "    mu_opt = parameters.parse(np.array([0.0208816 , 0.03446296]))\n",
    "    \n",
    "mu_opt_as_array = mu_opt.to_numpy()\n",
    "J_opt = opt_fom.output_functional_hat(mu_opt)\n",
    "print('Optimal parameter: ', mu_opt_as_array)\n",
    "print('Optimal J: ', J_opt)\n",
    "\n",
    "print()\n",
    "print('Starting parameter: ', mu.to_numpy())\n",
    "J_start = opt_fom.output_functional_hat(mu)\n",
    "print('Starting J: ', J_start)"
   ]
  },
  {
   "cell_type": "code",
   "execution_count": 11,
   "metadata": {},
   "outputs": [
    {
     "name": "stdout",
     "output_type": "stream",
     "text": [
      "{walls: 2}\n"
     ]
    }
   ],
   "source": [
    "print(mu_opt.parameters)"
   ]
  },
  {
   "cell_type": "markdown",
   "metadata": {},
   "source": [
    "### BFGS"
   ]
  },
  {
   "cell_type": "code",
   "execution_count": 12,
   "metadata": {},
   "outputs": [
    {
     "name": "stdout",
     "output_type": "stream",
     "text": [
      "Starting projected BFGS method\n",
      "Starting parameter {walls: [0.07334164969317605, 0.06268601168408901]}\n",
      "Step [0.02949603 0.03096186], functional 3.547044923753668 , FOC condition 0.07325517593458049\n",
      "Step [0.02004902 0.03893448], functional 3.546388752842117 , FOC condition 0.03839102849978646\n",
      "Step [0.02005378 0.03393505], functional 3.5461442057402532 , FOC condition 0.024747062540273992\n",
      "Step [0.02131794 0.03450886], functional 3.5461343995519874 , FOC condition 0.01013188164104056\n",
      "Step [0.02088084 0.0344851 ], functional 3.546132175617937 , FOC condition 0.000589149545710453\n",
      "Step [0.02088186 0.03445986], functional 3.546132169221276 , FOC condition 8.276000692796288e-05\n",
      "Step [0.0208816  0.03446296], functional 3.5461321690938252 , FOC condition 5.576717881086848e-08\n",
      "Converged: FOC = 5.576717881086848e-08\n",
      "relative differences mu 7.738490474637803e-05 and J 3.59408314777215e-11\n",
      "Computing only the initial FOC\n"
     ]
    }
   ],
   "source": [
    "from pdeopt.TR import solve_optimization_subproblem_BFGS\n",
    "from pdeopt.tools import compute_errors\n",
    "\n",
    "TR_parameters = {'radius': 1.e18, 'sub_tolerance': FOC_tolerance, \n",
    "                 'max_iterations_subproblem': 500,\n",
    "                 'starting_parameter': mu,\n",
    "                 'epsilon_i': epsilon_i,\n",
    "                 'max_iterations_armijo': max_it_arm,\n",
    "                 'initial_step_armijo': init_step_armijo,\n",
    "                 'armijo_alpha': armijo_alpha,\n",
    "                 'full_order_model': True}\n",
    "\n",
    "if 'BFGS' in optimization_methods or 'All' in optimization_methods:\n",
    "    muoptfom,_,_,_, times_FOM, mus_FOM, Js_FOM, FOC_FOM = solve_optimization_subproblem_BFGS(opt_fom, problem.parameter_space,mu, TR_parameters, timing=True, FOM=True)\n",
    "    times_full_FOM, J_error_FOM, mu_error_FOM, FOC = compute_errors(opt_fom, parameter_space, J_start, J_opt, mu, mu_opt_as_array, \n",
    "                                               mus_FOM, Js_FOM, times_FOM, 0, FOC_FOM)\n",
    "    times_full_FOM = times_full_FOM[1:]\n"
   ]
  },
  {
   "cell_type": "markdown",
   "metadata": {},
   "source": [
    "### Steihaug (not shown in thesis)"
   ]
  },
  {
   "cell_type": "code",
   "execution_count": 13,
   "metadata": {},
   "outputs": [],
   "source": [
    "from pdeopt.TR import TR_Steihaug\n",
    "from pdeopt.tools import compute_errors\n",
    "\n",
    "TR_parameters = {'radius': radius, 'FOC_tolerance': FOC_tolerance, \n",
    "                 'max_iterations_subproblem': max_it_sub,\n",
    "                 'max_iterations': 500,\n",
    "                 'starting_parameter': mu, \n",
    "                 'epsilon_i': epsilon_i,\n",
    "                 'max_iterations_armijo': max_it_arm, 'initial_step_armijo': init_step_armijo,\n",
    "                 'armijo_alpha': armijo_alpha,\n",
    "                 'full_order_model': True,\n",
    "                 'iterative_solver': iterative_solver}\n",
    "\n",
    "if 'SH'  in optimization_methods or 'All' in optimization_methods:\n",
    "    mus_SH, times_SH, Js_SH, FOC_SH = TR_Steihaug(opt_fom, problem.parameter_space, TR_parameters)\n",
    "    times_full_SH, J_error_SH, mu_error_SH, FOC = compute_errors(opt_fom, parameter_space, J_start, J_opt, mu, mu_opt_as_array, \n",
    "                                                       mus_SH, Js_SH, times_SH, toc, FOC_SH)"
   ]
  },
  {
   "cell_type": "markdown",
   "metadata": {},
   "source": [
    "# Global Greedy (Section 2.5.6)"
   ]
  },
  {
   "cell_type": "code",
   "execution_count": 14,
   "metadata": {},
   "outputs": [
    {
     "name": "stdout",
     "output_type": "stream",
     "text": [
      "Starting with two bases. Primal and dual have length 0 and 0\n",
      "building simple coercive primal reductor...\n"
     ]
    },
    {
     "data": {
      "application/vnd.jupyter.widget-view+json": {
       "model_id": "eb2e626097af404da028720e42a9c538",
       "version_major": 2,
       "version_minor": 0
      },
      "text/plain": [
       "Accordion(children=(HTML(value='', layout=Layout(height='16em', overflow_y='auto', width='100%')),), selected_…"
      ]
     },
     "metadata": {},
     "output_type": "display_data"
    },
    {
     "name": "stdout",
     "output_type": "stream",
     "text": [
      "building simple coercive dual reductor...\n",
      "Global Greedy for J target\n",
      "building simple coercive dual reductor...\n",
      "Enrichment completed... length of Bases are 1 and 1\n",
      "... enrichment took 1.66766s ...Total enrichment time is 1.66768s\n",
      "building simple coercive dual reductor...\n",
      "Enrichment completed... length of Bases are 2 and 2\n",
      "... enrichment took 2.29182s ...Total enrichment time is 3.95951s\n",
      "building simple coercive dual reductor...\n",
      "Enrichment completed... length of Bases are 3 and 3\n",
      "... enrichment took 2.13706s ...Total enrichment time is 6.09658s\n",
      "building simple coercive dual reductor...\n",
      "Enrichment completed... length of Bases are 4 and 4\n",
      "... enrichment took 2.45520s ...Total enrichment time is 8.55180s\n",
      "building simple coercive dual reductor...\n",
      "Enrichment completed... length of Bases are 5 and 5\n",
      "... enrichment took 2.66115s ...Total enrichment time is 11.21297s\n",
      "building simple coercive dual reductor...\n",
      "Enrichment completed... length of Bases are 6 and 6\n",
      "... enrichment took 2.78743s ...Total enrichment time is 14.00041s\n",
      "building simple coercive dual reductor...\n",
      "Enrichment completed... length of Bases are 7 and 7\n",
      "... enrichment took 3.15370s ...Total enrichment time is 17.15413s\n",
      "building simple coercive dual reductor...\n",
      "Enrichment completed... length of Bases are 8 and 8\n",
      "... enrichment took 3.29480s ...Total enrichment time is 20.44895s\n",
      "building simple coercive dual reductor...\n",
      "Enrichment completed... length of Bases are 9 and 9\n",
      "... enrichment took 3.50552s ...Total enrichment time is 23.95448s\n",
      "building simple coercive dual reductor...\n",
      "Enrichment completed... length of Bases are 10 and 10\n",
      "... enrichment took 3.77140s ...Total enrichment time is 27.72590s\n",
      "building simple coercive dual reductor...\n",
      "Enrichment completed... length of Bases are 11 and 11\n",
      "... enrichment took 3.96753s ...Total enrichment time is 31.69344s\n",
      "building simple coercive dual reductor...\n",
      "Enrichment completed... length of Bases are 12 and 12\n",
      "... enrichment took 4.27982s ...Total enrichment time is 35.97335s\n",
      " ... finished after 12 extensions\n"
     ]
    }
   ],
   "source": [
    "import time\n",
    "from pdeopt.greedy import pdeopt_greedy\n",
    "from pdeopt.reductor import QuadraticPdeoptStationaryCoerciveReductor\n",
    "from pdeopt.model import build_initial_basis\n",
    "\n",
    "from pymor.parameters.functionals import MinThetaParameterFunctional\n",
    "ce = MinThetaParameterFunctional(opt_fom.primal_model.operator.coefficients, mu_bar)\n",
    "\n",
    "opt_fom = opt_fom.with_(use_corrected_functional=True)\n",
    "opt_fom = opt_fom.with_(adjoint_approach=True)\n",
    "if 'Greedy' in optimization_methods:\n",
    "    TR_parameters = {'radius': 1.e18, 'sub_tolerance': FOC_tolerance, \n",
    "                 'max_iterations_subproblem': 500,\n",
    "                 'starting_parameter': mu,\n",
    "                 'epsilon_i': epsilon_i,\n",
    "                 'max_iterations_armijo': max_it_arm,\n",
    "                 'initial_step_armijo': init_step_armijo,\n",
    "                 'armijo_alpha': armijo_alpha,\n",
    "                 'full_order_model': True}\n",
    "    \n",
    "    set_log_levels({'pymor': 'INFO'})\n",
    "    tic = time.perf_counter()\n",
    "    RBbasis, dual_RBbasis = build_initial_basis(opt_fom, [], build_sensitivities=False)\n",
    "    \n",
    "    pdeopt_reductor = QuadraticPdeoptStationaryCoerciveReductor(opt_fom, \n",
    "                                                RBbasis, dual_RBbasis, \n",
    "                                                opt_product=opt_fom.opt_product,\n",
    "                                                coercivity_estimator=ce,\n",
    "                                                reductor_type=reductor_type, mu_bar=mu_bar)\n",
    "\n",
    "    training_set = problem.parameter_space.sample_uniformly(10)\n",
    "    result = pdeopt_greedy(opt_fom, pdeopt_reductor, training_set, J_atol=None, DJ_atol=None, rtol=1e-8, max_extensions=None, extension_params={}, pool=None)\n",
    "    tictoc = time.perf_counter() - tic\n",
    "    set_log_levels({'pymor': 'ERROR'})"
   ]
  },
  {
   "cell_type": "code",
   "execution_count": 15,
   "metadata": {},
   "outputs": [
    {
     "name": "stdout",
     "output_type": "stream",
     "text": [
      "Starting projected BFGS method\n",
      "Starting parameter {walls: [0.07334164969317605, 0.06268601168408901]}\n",
      "Step [0.02949603 0.03096189], functional 3.547044903855448 , FOC condition 0.0732551412390565\n",
      "Step [0.0200491  0.03893447], functional 3.5463887395846854 , FOC condition 0.038390114789578836\n",
      "Step [0.02005372 0.03393495], functional 3.546144192922684 , FOC condition 0.02474934905422854\n",
      "Step [0.02131797 0.0345088 ], functional 3.54613438486662 , FOC condition 0.010132460439551827\n",
      "Step [0.02088085 0.03448506], functional 3.5461321607002105 , FOC condition 0.0005892660459020718\n",
      "Step [0.02088186 0.03445981], functional 3.546132154302181 , FOC condition 8.27802481147546e-05\n",
      "Step [0.0208816  0.03446292], functional 3.5461321541732067 , FOC condition 5.575438857743512e-08\n",
      "Converged: FOC = 5.575438857743512e-08\n",
      "relative differences mu 7.740377535865576e-05 and J 3.63703773772285e-11\n",
      "Computing only the initial FOC\n"
     ]
    }
   ],
   "source": [
    "if 'Greedy' in optimization_methods:\n",
    "    opt_rom = result['rom']\n",
    "    muoptfom,_,_,_, times_Greed, mus_Greed, Js_Greed, FOC_Greed = solve_optimization_subproblem_BFGS(opt_rom, problem.parameter_space,mu, TR_parameters, timing=True, FOM=True)\n",
    "    times_full_Greed, J_error_Greed, mu_error_Greed, FOC = compute_errors(opt_fom, parameter_space, J_start, J_opt, mu, mu_opt_as_array, \n",
    "                                               mus_Greed, Js_Greed, times_Greed, tictoc, FOC_Greed)\n",
    "    times_full_Greed = times_full_Greed[1:]"
   ]
  },
  {
   "cell_type": "markdown",
   "metadata": {},
   "source": [
    "# TR-RB approaches (Section 3.5.3)"
   ]
  },
  {
   "cell_type": "code",
   "execution_count": 16,
   "metadata": {},
   "outputs": [],
   "source": [
    "from pdeopt.TR import TR_algorithm\n",
    "\n",
    "set_defaults({'pymor.operators.constructions.induced_norm.raise_negative': False})\n",
    "set_defaults({'pymor.operators.constructions.induced_norm.tol': 1e-20})"
   ]
  },
  {
   "cell_type": "markdown",
   "metadata": {},
   "source": [
    "## Classical TR-RB"
   ]
  },
  {
   "cell_type": "markdown",
   "metadata": {},
   "source": [
    "### BFGS"
   ]
  },
  {
   "cell_type": "code",
   "execution_count": 17,
   "metadata": {
    "scrolled": false
   },
   "outputs": [
    {
     "name": "stdout",
     "output_type": "stream",
     "text": [
      "Starting with two bases. Primal and dual have length 1 and 1\n",
      "building simple coercive primal reductor...\n",
      "building simple coercive dual reductor...\n",
      "starting parameter {walls: [0.07334164969317605, 0.06268601168408901]}\n",
      "Starting value of the cost rom: 3.574651526285539\n",
      "******************************* \n",
      "\n",
      "___ starting subproblem\n",
      "Computing the approximate Cauchy point and then start the BFGS method\n",
      "boundary criterium of the TR satisfied, so stopping the sub-problem solver\n",
      "sub-problem took 0.03376074507832527\n",
      "enriching to check the sufficient decrease condition\n",
      "enriching for mu: {walls: [0.00900353212189223, 0.009656894822197903]}\n",
      "building simple coercive dual reductor...\n",
      "Enrichment completed... length of Bases are 2 and 2\n",
      "... enrichment took 2.32244s ...Total enrichment time is 2.32246s\n",
      "estimate is: [8.36969559e-08]\n",
      "k: 0 - j 4 - Cost Functional: 3.565294395528002 - mu: {walls: [0.00900353212189223, 0.009656894822197903]}\n",
      "Shrinking the TR radius to: 0.05 because Jcp 3.542502292945822 and J_kp1 3.565294395528002\n",
      "******************************* \n",
      "\n",
      "___ starting subproblem\n",
      "Computing the approximate Cauchy point and then start the BFGS method\n",
      "boundary criterium of the TR satisfied, so stopping the sub-problem solver\n",
      "sub-problem took 0.037507932633161545\n",
      "enriching to check the sufficient decrease condition\n",
      "enriching for mu: {walls: [0.012357448108738933, 0.015688361531182367]}\n",
      "building simple coercive dual reductor...\n",
      "Enrichment completed... length of Bases are 2 and 2\n",
      "... enrichment took 2.58976s ...Total enrichment time is 2.58978s\n",
      "estimate is: [1.20524577e-07]\n",
      "k: 0 - j 4 - Cost Functional: 3.5545708076447555 - mu: {walls: [0.012357448108738933, 0.015688361531182367]}\n",
      "Shrinking the TR radius to: 0.025 because Jcp 3.542502292945822 and J_kp1 3.5545708076447555\n",
      "******************************* \n",
      "\n",
      "___ starting subproblem\n",
      "Computing the approximate Cauchy point and then start the BFGS method\n",
      "boundary criterium of the TR satisfied, so stopping the sub-problem solver\n",
      "sub-problem took 0.05695965699851513\n",
      "enriching to check the sufficient decrease condition\n",
      "enriching for mu: {walls: [0.017335827458333234, 0.019039867457997205]}\n",
      "building simple coercive dual reductor...\n",
      "Enrichment completed... length of Bases are 2 and 2\n",
      "... enrichment took 2.09473s ...Total enrichment time is 2.09476s\n",
      "estimate is: [1.13553121e-07]\n",
      "k: 0 - j 5 - Cost Functional: 3.5507121199403704 - mu: {walls: [0.017335827458333234, 0.019039867457997205]}\n",
      "Shrinking the TR radius to: 0.0125 because Jcp 3.542502292945822 and J_kp1 3.5507121199403704\n",
      "******************************* \n",
      "\n",
      "___ starting subproblem\n",
      "Computing the approximate Cauchy point and then start the BFGS method\n",
      "boundary criterium of the TR satisfied, so stopping the sub-problem solver\n",
      "sub-problem took 0.03583061136305332\n",
      "enriching to check the sufficient decrease condition\n",
      "enriching for mu: {walls: [0.025304252529729503, 0.026764114272986427]}\n",
      "building simple coercive dual reductor...\n",
      "Enrichment completed... length of Bases are 2 and 2\n",
      "... enrichment took 2.28133s ...Total enrichment time is 2.28135s\n",
      "estimate is: [7.2356678e-08]\n",
      "k: 0 - j 3 - Cost Functional: 3.547230646036388 - mu: {walls: [0.025304252529729503, 0.026764114272986427]}\n",
      "Shrinking the TR radius to: 0.00625 because Jcp 3.542502292945822 and J_kp1 3.547230646036388\n",
      "******************************* \n",
      "\n",
      "___ starting subproblem\n",
      "Computing the approximate Cauchy point and then start the BFGS method\n",
      "boundary criterium of the TR satisfied, so stopping the sub-problem solver\n",
      "sub-problem took 0.03478385508060455\n",
      "enriching to check the sufficient decrease condition\n",
      "enriching for mu: {walls: [0.038309014290168454, 0.03731627806461259]}\n",
      "building simple coercive dual reductor...\n",
      "Enrichment completed... length of Bases are 2 and 2\n",
      "... enrichment took 2.08894s ...Total enrichment time is 2.08896s\n",
      "estimate is: [8.5634138e-08]\n",
      "k: 0 - j 3 - Cost Functional: 3.5490383585775795 - mu: {walls: [0.038309014290168454, 0.03731627806461259]}\n",
      "First order critical condition: 0.04640939841165804\n",
      "******************************* \n",
      "\n",
      "___ starting subproblem\n",
      "Computing the approximate Cauchy point and then start the BFGS method\n",
      "boundary criterium of the TR satisfied, so stopping the sub-problem solver\n",
      "sub-problem took 0.045269740745425224\n",
      "enriching to check the sufficient decrease condition\n",
      "enriching for mu: {walls: [0.015100873547719391, 0.03714538762701377]}\n",
      "building simple coercive dual reductor...\n",
      "Enrichment completed... length of Bases are 3 and 3\n",
      "... enrichment took 2.26578s ...Total enrichment time is 4.35476s\n",
      "estimate is: [1.89899018e-07]\n",
      "k: 1 - j 4 - Cost Functional: 3.5466595641587544 - mu: {walls: [0.015100873547719391, 0.03714538762701377]}\n",
      "Shrinking the TR radius to: 0.003125 because Jcp 3.545782848614981 and J_kp1 3.5466595641587544\n",
      "******************************* \n",
      "\n",
      "___ starting subproblem\n",
      "Computing the approximate Cauchy point and then start the BFGS method\n",
      "boundary criterium of the TR satisfied, so stopping the sub-problem solver\n",
      "sub-problem took 0.03741171397268772\n",
      "enriching to check the sufficient decrease condition\n",
      "enriching for mu: {walls: [0.0174347276147922, 0.03501549499677199]}\n",
      "building simple coercive dual reductor...\n",
      "Enrichment completed... length of Bases are 3 and 3\n",
      "... enrichment took 2.58067s ...Total enrichment time is 4.66965s\n",
      "estimate is: [6.28320064e-08]\n",
      "k: 1 - j 3 - Cost Functional: 3.5462838257655322 - mu: {walls: [0.0174347276147922, 0.03501549499677199]}\n",
      "Shrinking the TR radius to: 0.0015625 because Jcp 3.545782848614981 and J_kp1 3.5462838257655322\n",
      "******************************* \n",
      "\n",
      "___ starting subproblem\n",
      "Computing the approximate Cauchy point and then start the BFGS method\n",
      "boundary criterium of the TR satisfied, so stopping the sub-problem solver\n",
      "sub-problem took 0.044642867520451546\n",
      "enriching to check the sufficient decrease condition\n",
      "enriching for mu: {walls: [0.019269401213981702, 0.03321735581196713]}\n",
      "building simple coercive dual reductor...\n",
      "Enrichment completed... length of Bases are 3 and 3\n",
      "... enrichment took 2.34029s ...Total enrichment time is 4.42927s\n",
      "estimate is: [7.76302397e-08]\n",
      "k: 1 - j 3 - Cost Functional: 3.5461854001959408 - mu: {walls: [0.019269401213981702, 0.03321735581196713]}\n",
      "Shrinking the TR radius to: 0.00078125 because Jcp 3.545782848614981 and J_kp1 3.5461854001959408\n",
      "******************************* \n",
      "\n",
      "___ starting subproblem\n",
      "Computing the approximate Cauchy point and then start the BFGS method\n",
      "boundary criterium of the TR satisfied, so stopping the sub-problem solver\n",
      "sub-problem took 0.04277308098971844\n",
      "enriching to check the sufficient decrease condition\n",
      "enriching for mu: {walls: [0.025909088533910458, 0.03824425488499886]}\n",
      "building simple coercive dual reductor...\n",
      "Enrichment completed... length of Bases are 3 and 3\n",
      "... enrichment took 2.19985s ...Total enrichment time is 4.28883s\n",
      "estimate is: [6.74706944e-08]\n",
      "k: 1 - j 3 - Cost Functional: 3.54658868569949 - mu: {walls: [0.025909088533910458, 0.03824425488499886]}\n",
      "First order critical condition: 0.039273024662962695\n",
      "******************************* \n",
      "\n",
      "___ starting subproblem\n",
      "Computing the approximate Cauchy point and then start the BFGS method\n",
      "Subproblem converged: FOC = 1.3755347460063084e-11, mu_diff = 8.985104380997988e-07, J_diff = 4.758821814547714e-15 \n",
      "relative differences mu 8.985104380997988e-07 and J 4.758821814547714e-15\n",
      "sub-problem took 0.050747957080602646\n",
      "checked sufficient condition, starting enrichment\n",
      "enriching for mu: {walls: [0.02082813690908803, 0.034413278622138645]}\n",
      "building simple coercive dual reductor...\n",
      "Enrichment completed... length of Bases are 4 and 4\n",
      "... enrichment took 2.47281s ...Total enrichment time is 6.76165s\n",
      "estimate is: [1.1204173e-07]\n",
      "enlarging the TR radius to 0.0015625\n",
      "k: 2 - j 7 - Cost Functional: 3.5461277248738856 - mu: {walls: [0.02082813690908803, 0.034413278622138645]}\n",
      "First order critical condition: 0.001850142805770808\n",
      "******************************* \n",
      "\n",
      "___ starting subproblem\n",
      "Computing the approximate Cauchy point and then start the BFGS method\n",
      "Not a descendent direction ... taking -gradient as direction\n",
      "Subproblem converged: FOC = 3.432550664633155e-07, mu_diff = 4.057469802750039e-07, J_diff = 0.0 \n",
      "relative differences mu 4.057469802750039e-07 and J 0.0\n",
      "sub-problem took 0.049205221235752106\n",
      "checked sufficient condition, starting enrichment\n",
      "enriching for mu: {walls: [0.020881586327442036, 0.03446298129669561]}\n"
     ]
    },
    {
     "name": "stdout",
     "output_type": "stream",
     "text": [
      "building simple coercive dual reductor...\n",
      "Enrichment completed... length of Bases are 5 and 5\n",
      "... enrichment took 2.68171s ...Total enrichment time is 9.44338s\n",
      "estimate is: [1.17063535e-07]\n",
      "enlarging the TR radius to 0.003125\n",
      "k: 3 - j 6 - Cost Functional: 3.546132169372876 - mu: {walls: [0.020881586327442036, 0.03446298129669561]}\n",
      "First order critical condition: 6.226011982586816e-07\n",
      "******************************* \n",
      "\n",
      "\n",
      "Stopping criteria fulfilled: FOC condition: 6.226011982586816e-07\n",
      "Sub-problems took 0.46915s\n",
      "Computing only the initial FOC\n"
     ]
    }
   ],
   "source": [
    "tic = time.time()\n",
    "params = [mu]\n",
    "opt_fom = opt_fom.with_(use_corrected_functional=True)\n",
    "opt_fom = opt_fom.with_(adjoint_approach=True)\n",
    "\n",
    "if 'TR-RB-BFGS' in optimization_methods or 'corrected' in optimization_methods or 'All' in optimization_methods or 'All_TR' in optimization_methods:\n",
    "\n",
    "    RBbasis, dual_RBbasis = build_initial_basis(\n",
    "        opt_fom, params, build_sensitivities=False)\n",
    "\n",
    "    pdeopt_reductor = QuadraticPdeoptStationaryCoerciveReductor(opt_fom, \n",
    "                                                RBbasis, dual_RBbasis, \n",
    "                                                opt_product=opt_fom.opt_product,\n",
    "                                                coercivity_estimator=ce,\n",
    "                                                reductor_type=reductor_type, mu_bar=mu_bar)\n",
    "\n",
    "    opt_rom = pdeopt_reductor.reduce()\n",
    "\n",
    "    tictoc = time.time() - tic\n",
    "\n",
    "    TR_parameters = {'Qian-Grepl_subproblem': Qian_Grepl_subproblem, 'beta': beta,\n",
    "                 'safety_tolerance': safety_tol,\n",
    "                 'radius': radius, 'FOC_tolerance': FOC_tolerance, \n",
    "                 'sub_tolerance': sub_tolerance,\n",
    "                 'estimate_tolerance': estimate_tolerance, \n",
    "                 'max_iterations': max_it, 'max_iterations_subproblem': max_it_sub, \n",
    "                 'max_iterations_armijo': max_it_arm,\n",
    "                 'initial_step_armijo': init_step_armijo, \n",
    "                 'armijo_alpha': armijo_alpha, \n",
    "                 'epsilon_i': epsilon_i, \n",
    "                 'control_mu': control_mu,\n",
    "                 'starting_parameter': mu, \n",
    "                 'opt_method': 'BFGSMethod',  'iterative_solver': iterative_solver}\n",
    "\n",
    "    extension_params = {'Check_suff_and_nec_conditions': True, \n",
    "                        'Enlarge_radius': True, 'timings': True, 'opt_fom': opt_fom,\n",
    "                        'enrichment_in_every_point': True, 'mu_estimators': False,\n",
    "                        'return_data_dict': True}\n",
    "\n",
    "    \n",
    "    mus_19, times_19, Js_19, FOC_19, data_19 = TR_algorithm(opt_rom, pdeopt_reductor, parameter_space, \n",
    "                                                TR_parameters, extension_params, return_opt_rom=True)\n",
    "    \n",
    "    times_full_19_actual, J_error_19_actual, mu_error_19_actual, FOC_19_actual = compute_errors(\n",
    "        opt_fom, parameter_space, J_start, J_opt, mu, mu_opt_as_array, mus_19[1:], Js_19, times_19, tictoc, FOC_19)"
   ]
  },
  {
   "cell_type": "markdown",
   "metadata": {},
   "source": [
    "### Newton (not shown in the thesis)"
   ]
  },
  {
   "cell_type": "code",
   "execution_count": 18,
   "metadata": {},
   "outputs": [],
   "source": [
    "tic = time.time()\n",
    "params = [mu]\n",
    "opt_fom = opt_fom.with_(use_corrected_functional=True)\n",
    "opt_fom = opt_fom.with_(adjoint_approach=True)\n",
    "\n",
    "if 'Newton' in optimization_methods or 'corrected' in optimization_methods or 'All' in optimization_methods or 'All_TR' in optimization_methods:\n",
    "\n",
    "    RBbasis, dual_RBbasis = build_initial_basis(\n",
    "        opt_fom, params, build_sensitivities=False)\n",
    "\n",
    "    pdeopt_reductor = QuadraticPdeoptStationaryCoerciveReductor(opt_fom, \n",
    "                                                RBbasis, dual_RBbasis, \n",
    "                                                opt_product=opt_fom.opt_product,\n",
    "                                                coercivity_estimator=ce,\n",
    "                                                prepare_for_hessian=True,\n",
    "                                                reductor_type=reductor_type, mu_bar=mu_bar)\n",
    "\n",
    "    opt_rom = pdeopt_reductor.reduce()\n",
    "\n",
    "    tictoc = time.time() - tic\n",
    "\n",
    "    TR_parameters = {'Qian-Grepl_subproblem': Qian_Grepl_subproblem, 'beta': beta,\n",
    "                 'safety_tolerance': safety_tol,\n",
    "                 'radius': radius, 'FOC_tolerance': FOC_tolerance, \n",
    "                 'sub_tolerance': sub_tolerance,\n",
    "                 'estimate_tolerance': estimate_tolerance, \n",
    "                 'max_iterations': max_it, 'max_iterations_subproblem': max_it_sub, \n",
    "                 'max_iterations_armijo': max_it_arm,\n",
    "                 'initial_step_armijo': init_step_armijo, \n",
    "                 'armijo_alpha': armijo_alpha, \n",
    "                 'epsilon_i': epsilon_i, \n",
    "                 'control_mu': control_mu,\n",
    "                 'starting_parameter': mu, \n",
    "                 'opt_method': 'Newton',  'iterative_solver': iterative_solver}\n",
    "\n",
    "    extension_params = {'Check_suff_and_nec_conditions': True, \n",
    "                        'Enlarge_radius': True, 'timings': True, 'opt_fom': opt_fom,\n",
    "                        'enrichment_in_every_point': True, 'mu_estimators': False,\n",
    "                        'return_data_dict': True}\n",
    "\n",
    "    \n",
    "    mus_10, times_10, Js_10, FOC_10, data_10 = TR_algorithm(opt_rom, pdeopt_reductor, parameter_space, \n",
    "                                                TR_parameters, extension_params, return_opt_rom=True)\n",
    "    \n",
    "    times_full_10_actual, J_error_10_actual, mu_error_10_actual, FOC_10_actual = compute_errors(\n",
    "        opt_fom, parameter_space, J_start, J_opt, mu, mu_opt_as_array, mus_10[1:], Js_10, times_10, tictoc,\n",
    "        FOC_10)"
   ]
  },
  {
   "cell_type": "markdown",
   "metadata": {},
   "source": [
    "## FCO-TR-RB algorithm (Section 3.6.6)"
   ]
  },
  {
   "cell_type": "code",
   "execution_count": 19,
   "metadata": {},
   "outputs": [
    {
     "name": "stdout",
     "output_type": "stream",
     "text": [
      "Starting with two bases. Primal and dual have length 1 and 1\n",
      "building simple coercive primal reductor...\n",
      "building simple coercive dual reductor...\n",
      "starting parameter {walls: [0.07334164969317605, 0.06268601168408901]}\n",
      "Starting value of the cost rom: 3.574651526285539\n",
      "******************************* \n",
      "\n",
      "___ starting subproblem\n",
      "Computing the approximate Cauchy point and then start the BFGS method\n",
      "boundary criterium of the TR satisfied, so stopping the sub-problem solver\n",
      "sub-problem took 0.033675676211714745\n",
      "enriching to check the sufficient decrease condition\n",
      "enriching for mu: {walls: [0.00900353212189223, 0.009656894822197903]}\n",
      "building simple coercive dual reductor...\n",
      "Enrichment completed... length of Bases are 2 and 2\n",
      "... enrichment took 2.03000s ...Total enrichment time is 2.03001s\n",
      "estimate is: [8.36969559e-08]\n",
      "k: 0 - j 4 - Cost Functional: 3.565294395528002 - mu: {walls: [0.00900353212189223, 0.009656894822197903]}\n",
      "Shrinking the TR radius to: 0.05 because Jcp 3.542502292945822 and J_kp1 3.565294395528002\n",
      "******************************* \n",
      "\n",
      "___ starting subproblem\n",
      "Computing the approximate Cauchy point and then start the BFGS method\n",
      "boundary criterium of the TR satisfied, so stopping the sub-problem solver\n",
      "sub-problem took 0.04407168738543987\n",
      "enriching to check the sufficient decrease condition\n",
      "enriching for mu: {walls: [0.008425491982790844, 0.03986544191722782]}\n",
      "building simple coercive dual reductor...\n",
      "Enrichment completed... length of Bases are 3 and 3\n",
      "... enrichment took 2.41546s ...Total enrichment time is 4.44549s\n",
      "estimate is: [1.54218586e-07]\n",
      "k: 0 - j 4 - Cost Functional: 3.549037744058446 - mu: {walls: [0.008425491982790844, 0.03986544191722782]}\n",
      "Shrinking the TR radius to: 0.025 because Jcp 3.5468449818266423 and J_kp1 3.549037744058446\n",
      "******************************* \n",
      "\n",
      "___ starting subproblem\n",
      "Computing the approximate Cauchy point and then start the BFGS method\n",
      "Not a descendent direction ... taking -gradient as direction\n",
      "Not a descendent direction ... taking -gradient as direction\n",
      "Subproblem converged: FOC = 5.657333634637521e-07, mu_diff = 7.682887165050281e-07, J_diff = 0.0 \n",
      "relative differences mu 7.682887165050281e-07 and J 0.0\n",
      "sub-problem took 0.06621379032731056\n",
      "enriching to check the sufficient decrease condition\n",
      "enriching for mu: {walls: [0.021057634286451413, 0.034286591694098575]}\n",
      "building simple coercive dual reductor...\n",
      "Enrichment completed... length of Bases are 4 and 4\n",
      "... enrichment took 2.58477s ...Total enrichment time is 7.03028s\n",
      "estimate is: [7.82014566e-08]\n",
      "k: 0 - j 9 - Cost Functional: 3.546132929934325 - mu: {walls: [0.021057634286451413, 0.034286591694098575]}\n",
      "First order critical condition: 0.00612076131033375\n",
      "******************************* \n",
      "\n",
      "___ starting subproblem\n",
      "Computing the approximate Cauchy point and then start the BFGS method\n",
      "Subproblem converged: FOC = 9.06571524981166e-09, mu_diff = 4.443932750055421e-06, J_diff = 1.0895183678272458e-13 \n",
      "relative differences mu 4.443932750055421e-06 and J 1.0895183678272458e-13\n",
      "sub-problem took 0.03918525576591492\n",
      "checked sufficient condition, starting enrichment\n",
      "enriching for mu: {walls: [0.02088061884491749, 0.03446510869934267]}\n",
      "building simple coercive dual reductor...\n",
      "Enrichment completed... length of Bases are 5 and 5\n",
      "... enrichment took 2.77714s ...Total enrichment time is 9.80743s\n",
      "estimate is: [9.48880507e-08]\n",
      "k: 1 - j 5 - Cost Functional: 3.5461321624159465 - mu: {walls: [0.02088061884491749, 0.03446510869934267]}\n",
      "First order critical condition: 6.083415039180605e-05\n",
      "******************************* \n",
      "\n",
      "___ starting subproblem\n",
      "Computing the approximate Cauchy point and then start the BFGS method\n",
      "Not a descendent direction ... taking -gradient as direction\n",
      "Not a descendent direction ... taking -gradient as direction\n",
      "Subproblem converged: FOC = 2.0713323185467257e-07, mu_diff = 1.3406139329655674e-07, J_diff = 0.0 \n",
      "relative differences mu 1.3406139329655674e-07 and J 0.0\n",
      "sub-problem took 0.055355995893478394\n",
      "checked sufficient condition, starting enrichment\n",
      "enriching for mu: {walls: [0.020881607294126588, 0.03446296714234877]}\n",
      "building simple coercive dual reductor...\n",
      "Enrichment completed... length of Bases are 6 and 6\n",
      "... enrichment took 2.85879s ...Total enrichment time is 12.66624s\n",
      "estimate is: [1.08110239e-07]\n",
      "enlarging the TR radius to 0.05\n",
      "k: 2 - j 6 - Cost Functional: 3.5461321693738848 - mu: {walls: [0.020881607294126588, 0.03446296714234877]}\n",
      "First order critical condition: 1.9477209344109297e-07\n",
      "******************************* \n",
      "\n",
      "\n",
      "Stopping criteria fulfilled: FOC condition: 1.9477209344109297e-07\n",
      "Sub-problems took 0.23858s\n",
      "Computing only the initial FOC\n"
     ]
    }
   ],
   "source": [
    "tic = time.time()\n",
    "params = [mu]\n",
    "opt_fom = opt_fom.with_(use_corrected_functional=True)\n",
    "opt_fom = opt_fom.with_(adjoint_approach=True)\n",
    "\n",
    "if 'TR-RB-BFGS' in optimization_methods or 'corrected' in optimization_methods or 'All' in optimization_methods or 'All_TR' in optimization_methods:\n",
    "\n",
    "    RBbasis, dual_RBbasis = build_initial_basis(\n",
    "        opt_fom, params, build_sensitivities=False)\n",
    "\n",
    "    pdeopt_reductor = QuadraticPdeoptStationaryCoerciveReductor(opt_fom, \n",
    "                                                RBbasis, dual_RBbasis, \n",
    "                                                opt_product=opt_fom.opt_product,\n",
    "                                                coercivity_estimator=ce,\n",
    "                                                reductor_type=reductor_type, mu_bar=mu_bar)\n",
    "\n",
    "    opt_rom = pdeopt_reductor.reduce()\n",
    "\n",
    "    tictoc = time.time() - tic\n",
    "\n",
    "    TR_parameters = {'Qian-Grepl_subproblem': Qian_Grepl_subproblem, 'beta': beta,\n",
    "                 'safety_tolerance': safety_tol,\n",
    "                 'radius': radius, 'FOC_tolerance': FOC_tolerance, \n",
    "                 'sub_tolerance': sub_tolerance,\n",
    "                 'estimate_tolerance': estimate_tolerance, \n",
    "                 'max_iterations': max_it, 'max_iterations_subproblem': max_it_sub, \n",
    "                 'max_iterations_armijo': max_it_arm,\n",
    "                 'initial_step_armijo': init_step_armijo, \n",
    "                 'armijo_alpha': armijo_alpha, \n",
    "                 'epsilon_i': epsilon_i, \n",
    "                 'control_mu': control_mu,\n",
    "                 'starting_parameter': mu, \n",
    "                 'opt_method': 'BFGSMethod',  'iterative_solver': iterative_solver}\n",
    "\n",
    "    extension_params = {'Check_suff_and_nec_conditions': True, \n",
    "                        'Enlarge_radius': True, 'timings': True, 'opt_fom': opt_fom,\n",
    "                        'enrichment_in_every_point': True, 'mu_estimators': False,\n",
    "                        'return_data_dict': True,\n",
    "                        'enrich_if_shrinked': True}\n",
    "\n",
    "    \n",
    "    mus_9, times_9, Js_9, FOC_9, data_9 = TR_algorithm(opt_rom, pdeopt_reductor, parameter_space, \n",
    "                                                TR_parameters, extension_params, return_opt_rom=True)\n",
    "    \n",
    "    times_full_9_actual, J_error_9_actual, mu_error_9_actual, FOC_9_actual = compute_errors(\n",
    "        opt_fom, parameter_space, J_start, J_opt, mu, mu_opt_as_array, mus_9[1:], Js_9, times_9, tictoc, FOC_9)"
   ]
  },
  {
   "cell_type": "markdown",
   "metadata": {},
   "source": [
    "## Relaxed TR-RB algorithm (Section 3.6.6)"
   ]
  },
  {
   "cell_type": "code",
   "execution_count": 20,
   "metadata": {},
   "outputs": [
    {
     "name": "stdout",
     "output_type": "stream",
     "text": [
      "Starting with two bases. Primal and dual have length 1 and 1\n",
      "building non assembled for primal reductor...\n",
      "building non assembled dual reductor...\n",
      "starting parameter {walls: [0.07334164969317605, 0.06268601168408901]}\n",
      "Starting value of the cost: 3.574651526285539\n",
      "******************************* \n",
      "\n",
      "Relaxing parameter for TR: 1e+06 and SC: 1e+06\n",
      "skipping estimations entirely\n",
      "___ starting subproblem\n",
      "Computing the approximate Cauchy point and then start the BFGS method\n",
      "Subproblem converged: FOC = 3.3484554675007605e-07, mu_diff = 0.1252595982942476, J_diff = 5.090193325277558e-06 \n",
      "relative differences mu 0.1252595982942476 and J 5.090193325277558e-06\n",
      "sub-problem took 0.01310846395790577\n",
      "starting enrichment\n",
      "enriching for mu: {walls: [0.005, 0.012364467603037586]}\n",
      "building non assembled dual reductor...\n",
      "Enrichment completed... length of Bases are 2 and 2\n",
      "... enrichment took 1.74689s ...Total enrichment time is 1.74693s\n",
      "k: 0 - j 3 - Cost Functional: 3.537349720798799 - mu: {walls: [0.005, 0.012364467603037586]}\n",
      "TR criterion: inf\n",
      "strong sufficient decrease condition fulfilled\n",
      "First order critical condition: 0.1292477718898823\n",
      "******************************* \n",
      "\n",
      "Relaxing parameter for TR: 1e+05 and SC: 1e+05\n",
      "skipping estimations entirely\n",
      "___ starting subproblem\n",
      "Computing the approximate Cauchy point and then start the BFGS method\n",
      "Subproblem converged: FOC = 5.502533350723013e-07, mu_diff = 0.00036928121645879, J_diff = 1.7740849728186052e-10 \n",
      "relative differences mu 0.00036928121645879 and J 1.7740849728186052e-10\n",
      "sub-problem took 0.031052757054567337\n",
      "starting enrichment\n",
      "enriching for mu: {walls: [0.012308027413377741, 0.03941732553554573]}\n",
      "building non assembled dual reductor...\n",
      "Enrichment completed... length of Bases are 3 and 3\n",
      "... enrichment took 1.81720s ...Total enrichment time is 3.56414s\n",
      "k: 1 - j 8 - Cost Functional: 3.545534550809543 - mu: {walls: [0.012308027413377741, 0.03941732553554573]}\n",
      "TR criterion: inf\n",
      "strong sufficient decrease condition fulfilled\n",
      "First order critical condition: 0.09420421621749547\n",
      "******************************* \n",
      "\n",
      "Relaxing parameter for TR: 1e+04 and SC: 1e+04\n",
      "skipping estimations entirely\n",
      "___ starting subproblem\n",
      "Computing the approximate Cauchy point and then start the BFGS method\n",
      "Subproblem converged: FOC = 2.4126756579910517e-10, mu_diff = 2.0522230640855218e-06, J_diff = 2.6048667026251127e-14 \n",
      "relative differences mu 2.0522230640855218e-06 and J 2.6048667026251127e-14\n",
      "sub-problem took 0.03302665241062641\n",
      "starting enrichment\n",
      "enriching for mu: {walls: [0.0211355432163451, 0.03424328350395798]}\n",
      "building non assembled dual reductor...\n",
      "Enrichment completed... length of Bases are 4 and 4\n",
      "... enrichment took 1.94334s ...Total enrichment time is 5.50749s\n",
      "k: 2 - j 8 - Cost Functional: 3.5460761026935517 - mu: {walls: [0.0211355432163451, 0.03424328350395798]}\n",
      "TR criterion: inf\n",
      "strong sufficient decrease condition fulfilled\n",
      "First order critical condition: 0.008153644799633278\n",
      "******************************* \n",
      "\n",
      "Relaxing parameter for TR: 1e+03 and SC: 1e+03\n",
      "skipping estimations entirely\n",
      "___ starting subproblem\n",
      "Computing the approximate Cauchy point and then start the BFGS method\n",
      "Subproblem converged: FOC = 2.0706790026691097e-08, mu_diff = 7.528716779727743e-06, J_diff = 3.0756978251722595e-13 \n",
      "relative differences mu 7.528716779727743e-06 and J 3.0756978251722595e-13\n",
      "sub-problem took 0.024668483063578606\n",
      "starting enrichment\n",
      "enriching for mu: {walls: [0.02088143584046484, 0.03446360075887371]}\n",
      "building non assembled dual reductor...\n",
      "Enrichment completed... length of Bases are 5 and 5\n",
      "... enrichment took 2.07527s ...Total enrichment time is 7.58278s\n",
      "k: 3 - j 5 - Cost Functional: 3.5461321670321526 - mu: {walls: [0.02088143584046484, 0.03446360075887371]}\n",
      "TR criterion: inf\n",
      "strong sufficient decrease condition fulfilled\n",
      "First order critical condition: 1.7322492081758453e-05\n",
      "******************************* \n",
      "\n",
      "Relaxing parameter for TR: 1e+02 and SC: 1e+02\n",
      "skipping estimations entirely\n",
      "___ starting subproblem\n",
      "Computing the approximate Cauchy point and then start the BFGS method\n",
      "Subproblem converged: FOC = 7.295084625453884e-08, mu_diff = 7.802582284968764e-06, J_diff = 3.5641026077603104e-13 \n",
      "relative differences mu 7.802582284968764e-06 and J 3.5641026077603104e-13\n",
      "sub-problem took 0.02130834572017193\n",
      "starting enrichment\n",
      "enriching for mu: {walls: [0.020881599662960545, 0.034462959633556674]}\n",
      "building non assembled dual reductor...\n",
      "Enrichment completed... length of Bases are 6 and 6\n",
      "... enrichment took 2.20792s ...Total enrichment time is 9.79072s\n",
      "k: 4 - j 4 - Cost Functional: 3.5461321693739096 - mu: {walls: [0.020881599662960545, 0.034462959633556674]}\n",
      "TR criterion: inf\n",
      "strong sufficient decrease condition fulfilled\n",
      "First order critical condition: 7.727574259472067e-08\n",
      "******************************* \n",
      "\n",
      "\n",
      "Stopping criteria fulfilled: FOC condition: 7.727574259472067e-08\n",
      "Sub-problems took 0.12323s\n",
      "Computing only the initial FOC\n"
     ]
    }
   ],
   "source": [
    "from pdeopt.relaxed_TR import Relaxed_TR_algorithm\n",
    "\n",
    "tic = time.time()\n",
    "params = [mu]\n",
    "\n",
    "opt_fom = opt_fom.with_(use_corrected_functional=True)\n",
    "opt_fom = opt_fom.with_(adjoint_approach=True)\n",
    "\n",
    "RBbasis, dual_RBbasis = build_initial_basis(opt_fom, params)\n",
    "\n",
    "pdeopt_reductor = QuadraticPdeoptStationaryCoerciveReductor(opt_fom, \n",
    "                                            RBbasis, dual_RBbasis, \n",
    "                                            opt_product=opt_fom.opt_product,\n",
    "                                            coercivity_estimator=ce,\n",
    "#                                             prepare_for_hessian=True,\n",
    "                                            reductor_type='non_assembled', mu_bar=mu_bar)\n",
    "\n",
    "opt_rom = pdeopt_reductor.reduce()\n",
    "\n",
    "tictoc = time.time() - tic\n",
    "# tictoc += toc   # time for the discretization\n",
    "\n",
    "TR_parameters = {'Qian-Grepl_subproblem': Qian_Grepl_subproblem, 'beta': beta,\n",
    "             'safety_tolerance': safety_tol,\n",
    "             'radius': 0.1, 'FOC_tolerance': FOC_tolerance, \n",
    "             'sub_tolerance': FOC_tolerance,  # !!!! IMPORTANT !! \n",
    "             'max_iterations': max_it, 'max_iterations_subproblem': max_it_sub, \n",
    "             'max_iterations_armijo': max_it_arm,\n",
    "             'initial_step_armijo': init_step_armijo, \n",
    "             'armijo_alpha': armijo_alpha, \n",
    "             'epsilon_i': epsilon_i, \n",
    "             'control_mu': control_mu,\n",
    "             'starting_parameter': mu, \n",
    "             'opt_method': 'BFGSMethod',  'iterative_solver': iterative_solver,\n",
    "             'JFE_start': J_start,\n",
    "             'eps_TR' : [1e6, 1e5, 1e4, 1e3, 1e2, 10, 1, 0.1],\n",
    "             'eps_cond': [1e6, 1e5, 1e4, 1e3, 1e2, 10, 1, 0.1]}\n",
    "\n",
    "extension_params = {'Enlarge_radius': True, 'timings': True, \n",
    "                    'opt_fom': opt_fom, 'return_data_dict': True}\n",
    "\n",
    "mus_ntr, times_ntr, Js_ntr, FOC_ntr, data_ntr = Relaxed_TR_algorithm(opt_rom, pdeopt_reductor, parameter_space,\n",
    "                                                TR_parameters, extension_params)\n",
    "times_full_ntr_actual, J_error_ntr_actual, mu_error_ntr_actual, FOC_ntr_actual = compute_errors(\n",
    "    opt_fom, parameter_space, J_start, J_opt, mu, mu_opt_as_array, mus_ntr, Js_ntr, times_ntr, tictoc, FOC_ntr)"
   ]
  },
  {
   "cell_type": "markdown",
   "metadata": {},
   "source": [
    "# Results"
   ]
  },
  {
   "cell_type": "code",
   "execution_count": 21,
   "metadata": {},
   "outputs": [
    {
     "name": "stdout",
     "output_type": "stream",
     "text": [
      "{walls: [0.0208816, 0.03446296]}\n"
     ]
    },
    {
     "data": {
      "application/vnd.jupyter.widget-view+json": {
       "model_id": "d50c3c80df304f249b9295a52b0f4504",
       "version_major": 2,
       "version_minor": 0
      },
      "text/plain": [
       "Output()"
      ]
     },
     "metadata": {},
     "output_type": "display_data"
    }
   ],
   "source": [
    "print(mu_opt)\n",
    "u = opt_fom.solve(mu_opt)\n",
    "opt_fom.visualize(u)"
   ]
  },
  {
   "cell_type": "code",
   "execution_count": 28,
   "metadata": {},
   "outputs": [
    {
     "data": {
      "text/plain": [
       "<matplotlib.legend.Legend at 0x7fa067f720d0>"
      ]
     },
     "execution_count": 28,
     "metadata": {},
     "output_type": "execute_result"
    },
    {
     "data": {
      "image/png": "[encoded data removed]",
      "text/plain": [
       "<Figure size 432x288 with 1 Axes>"
      ]
     },
     "metadata": {
      "needs_background": "light"
     },
     "output_type": "display_data"
    }
   ],
   "source": [
    "timings_figure = plt.figure()\n",
    "%matplotlib inline\n",
    "if 'BFGS' in optimization_methods or 'All' in optimization_methods:\n",
    "    plt.semilogy(times_full_FOM,mu_error_FOM,'o-', label='BFGS with FOM')\n",
    "if 'TR-RB-BFGS' in optimization_methods or 'All' in optimization_methods:\n",
    "    plt.semilogy(times_full_19_actual[1:],mu_error_19_actual,'o-', label='TR-RB BFGS')\n",
    "    plt.semilogy(times_full_9_actual[1:],mu_error_9_actual,'o-', label='FCO-TR-RB BFGS')\n",
    "    plt.semilogy(times_full_ntr_actual,mu_error_ntr_actual,'o-', label='R-TR-RB BFGS')\n",
    "# if 'Greedy' in optimization_methods:\n",
    "#     plt.semilogy(times_full_Greed,mu_error_Greed,'o-', label='BFGS with ROM')\n",
    "    \n",
    "plt.xlabel('time in seconds [s]')\n",
    "plt.ylabel('mu_error')\n",
    "# plt.xlim([-1,30])\n",
    "plt.grid()\n",
    "plt.legend(loc='center left', bbox_to_anchor=(1, 0.5))"
   ]
  },
  {
   "cell_type": "code",
   "execution_count": 29,
   "metadata": {},
   "outputs": [
    {
     "data": {
      "text/plain": [
       "<matplotlib.legend.Legend at 0x7fa067eaebe0>"
      ]
     },
     "execution_count": 29,
     "metadata": {},
     "output_type": "execute_result"
    },
    {
     "data": {
      "image/png": "[encoded data removed]",
      "text/plain": [
       "<Figure size 432x288 with 1 Axes>"
      ]
     },
     "metadata": {
      "needs_background": "light"
     },
     "output_type": "display_data"
    }
   ],
   "source": [
    "timings_figure = plt.figure()\n",
    "\n",
    "if 'BFGS' in optimization_methods or 'All' in optimization_methods:\n",
    "    plt.semilogy(times_full_FOM,J_error_FOM,'o-', label='BFGS with FOM')\n",
    "if 'TR-RB-BFGS' in optimization_methods or 'All' in optimization_methods:\n",
    "    plt.semilogy(times_full_19_actual[1:],J_error_19_actual,'o-', label='TR-RB BFGS')\n",
    "    plt.semilogy(times_full_9_actual[1:],J_error_9_actual,'o-', label='FCO-TR-RB BFGS')\n",
    "    plt.semilogy(times_full_ntr_actual,J_error_ntr_actual,'o-', label='R-TR-RB BFGS')\n",
    "    \n",
    "plt.xlabel('time in seconds [s]')\n",
    "plt.ylabel('J_error')\n",
    "# plt.xlim([-1,30])\n",
    "plt.grid()\n",
    "plt.legend(loc='center left', bbox_to_anchor=(1, 0.5))"
   ]
  },
  {
   "cell_type": "code",
   "execution_count": 30,
   "metadata": {},
   "outputs": [
    {
     "data": {
      "text/plain": [
       "<matplotlib.legend.Legend at 0x7fa067dba550>"
      ]
     },
     "execution_count": 30,
     "metadata": {},
     "output_type": "execute_result"
    },
    {
     "data": {
      "image/png": "[encoded data removed]",
      "text/plain": [
       "<Figure size 432x288 with 1 Axes>"
      ]
     },
     "metadata": {
      "needs_background": "light"
     },
     "output_type": "display_data"
    }
   ],
   "source": [
    "import tikzplotlib\n",
    "\n",
    "timings_figure = plt.figure()\n",
    "if 'BFGS' in optimization_methods or 'All' in optimization_methods:\n",
    "    plt.semilogy(times_full_FOM,FOC_FOM,'o-', label='BFGS Method')\n",
    "if 'TR-RB-BFGS' in optimization_methods or 'All' in optimization_methods:\n",
    "    plt.semilogy(times_full_19_actual,FOC_19_actual,'o-', label='TR-RB BFGS')\n",
    "    plt.semilogy(times_full_9_actual,FOC_9_actual,'o-', label='FCO-TR-RB BFGS')\n",
    "    plt.semilogy(times_full_ntr_actual,FOC_ntr_actual,'o-', label='R-TR-RB BFGS')\n",
    "if 'Greedy' in optimization_methods:\n",
    "    plt.semilogy(times_full_Greed,FOC_Greed,'o-', label='Greedy BFGS')\n",
    "\n",
    "plt.xlabel('time in seconds [s]')\n",
    "plt.ylabel('First-order critical condition')\n",
    "# plt.xlim([-1,30])\n",
    "plt.grid()\n",
    "plt.legend(loc='center left', bbox_to_anchor=(1, 0.5))"
   ]
  },
  {
   "cell_type": "code",
   "execution_count": 25,
   "metadata": {},
   "outputs": [
    {
     "data": {
      "text/plain": [
       "<matplotlib.legend.Legend at 0x7fa068100760>"
      ]
     },
     "execution_count": 25,
     "metadata": {},
     "output_type": "execute_result"
    },
    {
     "data": {
      "image/png": "[encoded data removed]",
      "text/plain": [
       "<Figure size 432x288 with 1 Axes>"
      ]
     },
     "metadata": {
      "needs_background": "light"
     },
     "output_type": "display_data"
    }
   ],
   "source": [
    "timings_figure = plt.figure()\n",
    "\n",
    "if 'BFGS' in optimization_methods or 'All' in optimization_methods:\n",
    "    plt.semilogy(times_full_FOM,mu_error_FOM,'o-', label='BFGS with FOM')\n",
    "# if 'TR-RB-BFGS' in optimization_methods or 'All' in optimization_methods:\n",
    "#     plt.semilogy(times_full_19_actual[1:],mu_error_19_actual,'o-', label='TR-RB BFGS')\n",
    "#     plt.semilogy(times_full_9_actual[1:],mu_error_9_actual,'o-', label='TR-RB BFGS enrich anyway')\n",
    "#     plt.semilogy(times_full_ntr_actual,mu_error_ntr_actual,'o-', label='R-TR-RB BFGS')\n",
    "if 'Greedy' in optimization_methods:\n",
    "    plt.semilogy(times_full_Greed,mu_error_Greed,'o-', label='BFGS with ROM')\n",
    "    \n",
    "plt.xlabel('time in seconds [s]')\n",
    "plt.ylabel('mu_error')\n",
    "# plt.xlim([-1,30])\n",
    "plt.grid()\n",
    "plt.legend(loc='center left', bbox_to_anchor=(1, 0.5))"
   ]
  },
  {
   "cell_type": "code",
   "execution_count": 26,
   "metadata": {},
   "outputs": [
    {
     "data": {
      "text/plain": [
       "<matplotlib.legend.Legend at 0x7fa0681004f0>"
      ]
     },
     "execution_count": 26,
     "metadata": {},
     "output_type": "execute_result"
    },
    {
     "data": {
      "image/png": "[encoded data removed]",
      "text/plain": [
       "<Figure size 432x288 with 1 Axes>"
      ]
     },
     "metadata": {
      "needs_background": "light"
     },
     "output_type": "display_data"
    }
   ],
   "source": [
    "timings_figure = plt.figure()\n",
    "\n",
    "if 'BFGS' in optimization_methods or 'All' in optimization_methods:\n",
    "    plt.semilogy(times_full_FOM,J_error_FOM,'o-', label='BFGS with FOM')\n",
    "# if 'TR-RB-BFGS' in optimization_methods or 'All' in optimization_methods:\n",
    "#     plt.semilogy(times_full_19_actual[1:],mu_error_19_actual,'o-', label='TR-RB BFGS')\n",
    "#     plt.semilogy(times_full_9_actual[1:],mu_error_9_actual,'o-', label='FCO-TR-RB BFGS')\n",
    "#     plt.semilogy(times_full_ntr_actual,mu_error_ntr_actual,'o-', label='R-TR-RB BFGS')\n",
    "if 'Greedy' in optimization_methods:\n",
    "    plt.semilogy(times_full_Greed,J_error_Greed,'o-', label='BFGS with ROM')\n",
    "    \n",
    "plt.xlabel('time in seconds [s]')\n",
    "plt.ylabel('J error')\n",
    "# plt.xlim([-1,30])\n",
    "plt.grid()\n",
    "plt.legend(loc='center left', bbox_to_anchor=(1, 0.5))"
   ]
  },
  {
   "cell_type": "markdown",
   "metadata": {},
   "source": [
    "# Optimization path"
   ]
  },
  {
   "cell_type": "code",
   "execution_count": 27,
   "metadata": {},
   "outputs": [
    {
     "data": {
      "text/plain": [
       "<matplotlib.collections.PathCollection at 0x7fa068130160>"
      ]
     },
     "execution_count": 27,
     "metadata": {},
     "output_type": "execute_result"
    },
    {
     "data": {
      "image/png": "[encoded data removed]",
      "text/plain": [
       "<Figure size 432x288 with 1 Axes>"
      ]
     },
     "metadata": {
      "needs_background": "light"
     },
     "output_type": "display_data"
    }
   ],
   "source": [
    "import tikzplotlib\n",
    "\n",
    "fig1 = plt.figure()\n",
    "\n",
    "mu_start = vis_mu.to_numpy()\n",
    "x = []\n",
    "y = []\n",
    "x.append(mu_start[0])\n",
    "y.append(mu_start[1])\n",
    "for mu_k in mus_19:\n",
    "    if isinstance(mu_k, dict):\n",
    "        mu_k = mu_k.to_numpy()\n",
    "    x.append(mu_k[0])\n",
    "    y.append(mu_k[1])\n",
    "plt.plot(x,y,'o-k', label='TR-RB')\n",
    "x = []\n",
    "y = []\n",
    "x.append(mu_start[0])\n",
    "y.append(mu_start[1])\n",
    "for mus in data_19['all_mus']:\n",
    "    for mu_k in mus:\n",
    "        if isinstance(mu_k, dict):\n",
    "            mu_k = mu_k.to_numpy()\n",
    "        x.append(mu_k[0])\n",
    "        y.append(mu_k[1])\n",
    "plt.plot(x,y,'o--k', alpha=0.5)\n",
    "x = []\n",
    "y = []\n",
    "x.append(mu_start[0])\n",
    "y.append(mu_start[1])\n",
    "for mu_k in mus_ntr:\n",
    "    if isinstance(mu_k, dict):\n",
    "        mu_k = mu_k.to_numpy()\n",
    "    x.append(mu_k[0])\n",
    "    y.append(mu_k[1])\n",
    "plt.plot(x,y,'o-g', label='R-TR-RB')\n",
    "x = []\n",
    "y = []\n",
    "x.append(mu_start[0])\n",
    "y.append(mu_start[1])\n",
    "for mus in data_ntr['all_mus']:\n",
    "    for mu_k in mus:\n",
    "        if isinstance(mu_k, dict):\n",
    "            mu_k = mu_k.to_numpy()\n",
    "        x.append(mu_k[0])\n",
    "        y.append(mu_k[1])\n",
    "plt.plot(x,y,'o--g', alpha=0.5)\n",
    "x = []\n",
    "y = []\n",
    "x.append(mu_start[0])\n",
    "y.append(mu_start[1])\n",
    "for mu_k in mus_FOM:\n",
    "    if isinstance(mu_k, dict):\n",
    "        mu_k = mu_k.to_numpy()\n",
    "    x.append(mu_k[0])\n",
    "    y.append(mu_k[1])\n",
    "plt.plot(x,y,'o--b', label='FOM')\n",
    "mu_start = vis_mu.to_numpy()\n",
    "x = []\n",
    "y = []\n",
    "x.append(mu_start[0])\n",
    "y.append(mu_start[1])\n",
    "for mu_k in mus_9:\n",
    "    if isinstance(mu_k, dict):\n",
    "        mu_k = mu_k.to_numpy()\n",
    "    x.append(mu_k[0])\n",
    "    y.append(mu_k[1])\n",
    "plt.plot(x,y,'o-y', label='FCO-TR-RB')\n",
    "plt.legend()\n",
    "plt.xlim((0.005,0.1))\n",
    "plt.ylim((0.005,0.1))\n",
    "plt.scatter(mu_start[0],mu_start[1], marker='o', s=150, c='k')"
   ]
  }
 ],
 "metadata": {
  "kernelspec": {
   "display_name": "Python 3",
   "language": "python",
   "name": "python3"
  },
  "language_info": {
   "codemirror_mode": {
    "name": "ipython",
    "version": 3
   },
   "file_extension": ".py",
   "mimetype": "text/x-python",
   "name": "python",
   "nbconvert_exporter": "python",
   "pygments_lexer": "ipython3",
   "version": "3.8.10"
  }
 },
 "nbformat": 4,
 "nbformat_minor": 2
}
